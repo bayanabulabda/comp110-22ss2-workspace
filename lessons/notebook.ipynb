{
 "cells": [
  {
   "cell_type": "markdown",
   "metadata": {},
   "source": [
    "# Demon Jupyter Notebook\n",
    "This notebook will exemplify some of the common use cases in Python Jupyter Notebook. "
   ]
  },
  {
   "cell_type": "code",
   "execution_count": 6,
   "metadata": {},
   "outputs": [
    {
     "name": "stdout",
     "output_type": "stream",
     "text": [
      "Helo, Bayan\n"
     ]
    }
   ],
   "source": [
    "name: str = \"Bayan\"\n",
    "print(f\"Helo, {name}\")"
   ]
  },
  {
   "cell_type": "markdown",
   "metadata": {},
   "source": [
    "## Formating Markdown Notes\n",
    "\n",
    "* You can have lists\n",
    "* You can have [links - such as to a Markdown Cheat Sheet](https://www.markdownguide.org/cheat-sheet/)"
   ]
  },
  {
   "cell_type": "code",
   "execution_count": null,
   "metadata": {},
   "outputs": [
    {
     "name": "stdout",
     "output_type": "stream",
     "text": [
      "Another refrence to Bayan made in this cell.\n"
     ]
    }
   ],
   "source": [
    "print(f\"Another refrence to {name} made in this cell.\")"
   ]
  },
  {
   "cell_type": "markdown",
   "metadata": {},
   "source": [
    "# Useful shortcuts\n",
    "\n",
    "1. 'Command + Enter'Execute a cell and leave the focus / cursor in that cell \n",
    "2. 'Shift + Enter' Execute a cell and move to the next cell (or create a new cell at the end)"
   ]
  },
  {
   "cell_type": "code",
   "execution_count": null,
   "metadata": {},
   "outputs": [
    {
     "data": {
      "text/plain": [
       "201110.0"
      ]
     },
     "execution_count": 5,
     "metadata": {},
     "output_type": "execute_result"
    }
   ],
   "source": [
    "total: float = 110.0 + 1000.0\n",
    "total + 200000.0"
   ]
  },
  {
   "cell_type": "markdown",
   "metadata": {},
   "source": [
    "# Expression written as the last line of a cell are automatically outpy\n",
    "This is very handy for not needing to call the print function at the end of every cell."
   ]
  },
  {
   "cell_type": "code",
   "execution_count": 22,
   "metadata": {},
   "outputs": [
    {
     "ename": "ImportError",
     "evalue": "cannot import name 'add_two' from 'notebook_helpers' (/Users/bayanabulabda/Applications/comp110-22ss2-workspace/lessons/notebook_helpers.py)",
     "output_type": "error",
     "traceback": [
      "\u001b[0;31m---------------------------------------------------------------------------\u001b[0m",
      "\u001b[0;31mImportError\u001b[0m                               Traceback (most recent call last)",
      "\u001b[1;32m/Users/bayanabulabda/Applications/comp110-22ss2-workspace/lessons/notebook.ipynb Cell 8'\u001b[0m in \u001b[0;36m<cell line: 1>\u001b[0;34m()\u001b[0m\n\u001b[0;32m----> <a href='vscode-notebook-cell:/Users/bayanabulabda/Applications/comp110-22ss2-workspace/lessons/notebook.ipynb#ch0000021?line=0'>1</a>\u001b[0m \u001b[39mfrom\u001b[39;00m \u001b[39mnotebook_helpers\u001b[39;00m \u001b[39mimport\u001b[39;00m add_two\n\u001b[1;32m      <a href='vscode-notebook-cell:/Users/bayanabulabda/Applications/comp110-22ss2-workspace/lessons/notebook.ipynb#ch0000021?line=1'>2</a>\u001b[0m notebook_helpers\u001b[39m.\u001b[39mtwo_ints(\u001b[39m1\u001b[39m, \u001b[39m2\u001b[39m)\n",
      "\u001b[0;31mImportError\u001b[0m: cannot import name 'add_two' from 'notebook_helpers' (/Users/bayanabulabda/Applications/comp110-22ss2-workspace/lessons/notebook_helpers.py)"
     ]
    }
   ],
   "source": [
    "from notebook_helpers import add_two\n",
    "notebook_helpers.two_ints(1, 2)"
   ]
  },
  {
   "cell_type": "code",
   "execution_count": 18,
   "metadata": {},
   "outputs": [
    {
     "ename": "ImportError",
     "evalue": "cannot import name 'two_ints' from 'notebook_helpers' (/Users/bayanabulabda/Applications/comp110-22ss2-workspace/lessons/notebook_helpers.py)",
     "output_type": "error",
     "traceback": [
      "\u001b[0;31m---------------------------------------------------------------------------\u001b[0m",
      "\u001b[0;31mImportError\u001b[0m                               Traceback (most recent call last)",
      "\u001b[1;32m/Users/bayanabulabda/Applications/comp110-22ss2-workspace/lessons/notebook.ipynb Cell 9'\u001b[0m in \u001b[0;36m<cell line: 1>\u001b[0;34m()\u001b[0m\n\u001b[0;32m----> <a href='vscode-notebook-cell:/Users/bayanabulabda/Applications/comp110-22ss2-workspace/lessons/notebook.ipynb#ch0000022?line=0'>1</a>\u001b[0m \u001b[39mfrom\u001b[39;00m \u001b[39mnotebook_helpers\u001b[39;00m \u001b[39mimport\u001b[39;00m two_ints\n\u001b[1;32m      <a href='vscode-notebook-cell:/Users/bayanabulabda/Applications/comp110-22ss2-workspace/lessons/notebook.ipynb#ch0000022?line=1'>2</a>\u001b[0m two_ints(\u001b[39m10\u001b[39m, \u001b[39m20\u001b[39m)\n",
      "\u001b[0;31mImportError\u001b[0m: cannot import name 'two_ints' from 'notebook_helpers' (/Users/bayanabulabda/Applications/comp110-22ss2-workspace/lessons/notebook_helpers.py)"
     ]
    }
   ],
   "source": [
    "from notebook_helpers import two_ints\n",
    "two_ints(10, 20)"
   ]
  }
 ],
 "metadata": {
  "kernelspec": {
   "display_name": "Python 3.10.5 64-bit",
   "language": "python",
   "name": "python3"
  },
  "language_info": {
   "codemirror_mode": {
    "name": "ipython",
    "version": 3
   },
   "file_extension": ".py",
   "mimetype": "text/x-python",
   "name": "python",
   "nbconvert_exporter": "python",
   "pygments_lexer": "ipython3",
   "version": "3.10.5"
  },
  "orig_nbformat": 4,
  "vscode": {
   "interpreter": {
    "hash": "aee8b7b246df8f9039afb4144a1f6fd8d2ca17a180786b69acc140d282b71a49"
   }
  }
 },
 "nbformat": 4,
 "nbformat_minor": 2
}
